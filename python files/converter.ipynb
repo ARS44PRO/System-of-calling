{
 "cells": [
  {
   "cell_type": "code",
   "execution_count": 1,
   "metadata": {},
   "outputs": [],
   "source": [
    "import pandas as pd\n",
    "import binascii as b\n",
    "from pydub.utils import mediainfo\n",
    "from pydub import AudioSegment"
   ]
  },
  {
   "cell_type": "code",
   "execution_count": 2,
   "metadata": {},
   "outputs": [],
   "source": [
    "audio_path = \"C:/Users/денис/Desktop/System-of-calling/sounds/days.mp3\""
   ]
  },
  {
   "cell_type": "code",
   "execution_count": 3,
   "metadata": {},
   "outputs": [],
   "source": [
    "info = mediainfo(audio_path)"
   ]
  },
  {
   "cell_type": "code",
   "execution_count": 4,
   "metadata": {},
   "outputs": [],
   "source": [
    "if info['channel_layout'] == 'stereo':\n",
    "    sound1 = AudioSegment.from_mp3(audio_path)\n",
    "    sound1 = sound1.set_channels(1)\n",
    "    sound1.export(audio_path, format=\"mp3\")\n",
    "if info['sample_rate'] != '20000':\n",
    "    sound1 = AudioSegment.from_mp3(audio_path)\n",
    "    sound1 = sound1.set_frame_rate(8000)\n",
    "    sound1.export(audio_path, format=\"mp3\")"
   ]
  },
  {
   "cell_type": "code",
   "execution_count": 5,
   "metadata": {},
   "outputs": [],
   "source": [
    "with open(audio_path, 'rb') as f:\n",
    "    content = f.read()"
   ]
  },
  {
   "cell_type": "code",
   "execution_count": 6,
   "metadata": {},
   "outputs": [],
   "source": [
    "hexed = b.hexlify(content).decode('utf-8')"
   ]
  },
  {
   "cell_type": "code",
   "execution_count": 7,
   "metadata": {},
   "outputs": [],
   "source": [
    "a = []\n",
    "i = 0\n",
    "while i<len(hexed):\n",
    "    a.append(str(int(hexed[i:i+2], 16)))\n",
    "    i+=2"
   ]
  },
  {
   "cell_type": "code",
   "execution_count": 8,
   "metadata": {},
   "outputs": [],
   "source": [
    "with open(\"C:/Users/денис/Desktop/System-of-calling/data/days.txt\", 'w+') as d:\n",
    "    d.write(\", \".join(a))\n",
    "    d.close()"
   ]
  }
 ],
 "metadata": {
  "kernelspec": {
   "display_name": "venv",
   "language": "python",
   "name": "python3"
  },
  "language_info": {
   "codemirror_mode": {
    "name": "ipython",
    "version": 3
   },
   "file_extension": ".py",
   "mimetype": "text/x-python",
   "name": "python",
   "nbconvert_exporter": "python",
   "pygments_lexer": "ipython3",
   "version": "3.9.13"
  }
 },
 "nbformat": 4,
 "nbformat_minor": 2
}
